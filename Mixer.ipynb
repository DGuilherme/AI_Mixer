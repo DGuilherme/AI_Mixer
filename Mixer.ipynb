{
  "nbformat": 4,
  "nbformat_minor": 0,
  "metadata": {
    "colab": {
      "provenance": [],
      "authorship_tag": "ABX9TyMoCZ93hxfQZ1nX9Ivx9qUb",
      "include_colab_link": true
    },
    "kernelspec": {
      "name": "python3",
      "display_name": "Python 3"
    },
    "language_info": {
      "name": "python"
    }
  },
  "cells": [
    {
      "cell_type": "markdown",
      "metadata": {
        "id": "view-in-github",
        "colab_type": "text"
      },
      "source": [
        "<a href=\"https://colab.research.google.com/github/DGuilherme/AI_Mixer/blob/main/Mixer.ipynb\" target=\"_parent\"><img src=\"https://colab.research.google.com/assets/colab-badge.svg\" alt=\"Open In Colab\"/></a>"
      ]
    },
    {
      "cell_type": "code",
      "execution_count": null,
      "metadata": {
        "id": "i_zRwNt6TmCF"
      },
      "outputs": [],
      "source": [
        "from google.colab import drive\n",
        "drive.mount('/content/drive')\n"
      ]
    },
    {
      "cell_type": "code",
      "source": [
        "!pip install magenta\n",
        "!pip install librosa\n",
        "!apt-get install fluidsynth\n",
        "!pip install midi2audio\n",
        "!pip install matplotlib"
      ],
      "metadata": {
        "id": "t-Nfyns7U1I1"
      },
      "execution_count": null,
      "outputs": []
    },
    {
      "cell_type": "code",
      "source": [
        "import numpy as np\n",
        "import librosa\n",
        "import note_seq\n",
        "from note_seq import midi_io\n",
        "from magenta.models.music_vae import TrainedModel\n",
        "from magenta.models.music_vae import configs\n",
        "from midi2audio import FluidSynth\n",
        "import matplotlib.pyplot as plt\n",
        "import IPython.display as ipd"
      ],
      "metadata": {
        "id": "jbnjic_vVhdR"
      },
      "execution_count": null,
      "outputs": []
    },
    {
      "cell_type": "code",
      "source": [
        "# Set up the MusicVAE model\n",
        "config_name = 'hierdec-trio_16bar'\n",
        "checkpoint = 'https://storage.googleapis.com/magentadata/models/music_vae/checkpoints/hierdec-trio_16bar.tar'\n",
        "music_vae = TrainedModel(\n",
        "    configs.CONFIG_MAP[config_name],\n",
        "    batch_size=4,\n",
        "    checkpoint_dir_or_path=checkpoint\n",
        ")\n"
      ],
      "metadata": {
        "id": "ltHsyRbqU5Ux"
      },
      "execution_count": null,
      "outputs": []
    },
    {
      "cell_type": "code",
      "source": [
        "# Function to load MIDI files\n",
        "def load_midi(midi_path):\n",
        "    sequence = midi_io.midi_file_to_note_sequence(midi_path)\n",
        "    return sequence\n",
        "\n",
        "# Function to save MIDI files\n",
        "def save_midi(sequence, output_path):\n",
        "    midi_io.sequence_proto_to_midi_file(sequence, output_path)\n"
      ],
      "metadata": {
        "id": "s9qLRwLUU812"
      },
      "execution_count": null,
      "outputs": []
    },
    {
      "cell_type": "code",
      "source": [
        "# Load MIDI files\n",
        "midi_path1 = '/content/drive/My Drive/audio/track1.mid'\n",
        "midi_path2 = '/content/drive/My Drive/audio/track2.mid'\n",
        "sequence1 = load_midi(midi_path1)\n",
        "sequence2 = load_midi(midi_path2)"
      ],
      "metadata": {
        "id": "8B-zYcDpVyUs"
      },
      "execution_count": null,
      "outputs": []
    },
    {
      "cell_type": "code",
      "source": [
        "# Encode the MIDI sequences\n",
        "encoded_1 = music_vae.encode([sequence1])\n",
        "encoded_2 = music_vae.encode([sequence2])\n",
        "\n",
        "# Mix the encoded tracks\n",
        "ratio = 0.5  # You can adjust this ratio as needed\n",
        "mixed_encoding = ratio * encoded_1 + (1 - ratio) * encoded_2\n",
        "\n",
        "# Decode the mixed track\n",
        "mixed_sequence = music_vae.decode(mixed_encoding)[0]\n",
        "\n",
        "# Save the mixed sequence as a MIDI file\n",
        "output_midi_path = '/content/drive/My Drive/audio/mixed_track.mid'\n",
        "save_midi(mixed_sequence, output_midi_path)\n",
        "\n",
        "# Convert MIDI to audio\n",
        "fs = FluidSynth()\n",
        "audio_output_path = '/content/drive/My Drive/audio/mixed_track.wav'\n",
        "fs.midi_to_audio(output_midi_path, audio_output_path)"
      ],
      "metadata": {
        "id": "nEUlwPBDV2TH"
      },
      "execution_count": null,
      "outputs": []
    },
    {
      "cell_type": "code",
      "source": [
        "# Load the audio file\n",
        "y, sr = librosa.load(audio_output_path)\n",
        "\n",
        "# Plot the waveform\n",
        "plt.figure(figsize=(14, 5))\n",
        "librosa.display.waveshow(y, sr=sr)\n",
        "plt.title('Waveform of Mixed Track')\n",
        "plt.xlabel('Time (s)')\n",
        "plt.ylabel('Amplitude')\n",
        "plt.show()\n",
        "\n",
        "# Display the audio player\n",
        "ipd.display(ipd.Audio(audio_output_path))\n",
        "\n",
        "# Plot the spectrogram\n",
        "D = librosa.amplitude_to_db(np.abs(librosa.stft(y)), ref=np.max)\n",
        "plt.figure(figsize=(14, 5))\n",
        "librosa.display.specshow(D, sr=sr, x_axis='time', y_axis='log')\n",
        "plt.colorbar(format='%+2.0f dB')\n",
        "plt.title('Spectrogram of Mixed Track')\n",
        "plt.xlabel('Time (s)')\n",
        "plt.ylabel('Frequency (Hz)')\n",
        "plt.show()\n",
        "\n",
        "# Display the audio player again\n",
        "ipd.display(ipd.Audio(audio_output_path))"
      ],
      "metadata": {
        "id": "7zt-pg47XNgo"
      },
      "execution_count": null,
      "outputs": []
    }
  ]
}